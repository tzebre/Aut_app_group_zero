{
 "cells": [
  {
   "cell_type": "code",
   "execution_count": 8,
   "id": "53dcef7c-36dc-4496-aa6d-2ddd60135222",
   "metadata": {},
   "outputs": [],
   "source": [
    "import tensorflow as tf\n",
    "import tensorflow_probability as tfp\n",
    "\n",
    "import numpy as np\n",
    "import pandas as pd\n",
    "import matplotlib.pyplot as plt\n",
    "import os\n",
    "\n",
    "tfd = tfp.distributions\n",
    "tfpl = tfp.layers\n",
    "tfb = tfp.bijectors\n",
    "\n",
    "plt.rcParams['figure.figsize'] = (10, 6)"
   ]
  },
  {
   "cell_type": "code",
   "execution_count": 2,
   "id": "7a210d0c-1556-4d00-9818-2b856a3f81b0",
   "metadata": {},
   "outputs": [
    {
     "name": "stdout",
     "output_type": "stream",
     "text": [
      "Tensorflow Version:  2.9.0\n",
      "Tensorflow Probability Version:  0.16.0\n"
     ]
    }
   ],
   "source": [
    "print(\"Tensorflow Version: \", tf.__version__)\n",
    "print(\"Tensorflow Probability Version: \", tfp.__version__)"
   ]
  },
  {
   "cell_type": "code",
   "execution_count": 10,
   "id": "e479a67d-123c-4e31-a23f-a86355b81202",
   "metadata": {},
   "outputs": [
    {
     "name": "stdout",
     "output_type": "stream",
     "text": [
      "hub://activeloop/celeb-a-train loaded successfully.\n",
      "\n",
      "This dataset can be visualized in Jupyter Notebook by ds.visualize() or at https://app.activeloop.ai/activeloop/celeb-a-train\n",
      "\n",
      " \r"
     ]
    }
   ],
   "source": [
    "import deeplake\n",
    "ds = deeplake.load(\"hub://activeloop/celeb-a-train\")"
   ]
  },
  {
   "cell_type": "code",
   "execution_count": 11,
   "id": "0ea71a71-d4a1-448a-a3da-459fdcde5c13",
   "metadata": {},
   "outputs": [
    {
     "name": "stdout",
     "output_type": "stream",
     "text": [
      "Metal device set to: Apple M1\n"
     ]
    },
    {
     "name": "stderr",
     "output_type": "stream",
     "text": [
      "2023-03-07 16:24:56.464202: I tensorflow/core/common_runtime/pluggable_device/pluggable_device_factory.cc:305] Could not identify NUMA node of platform GPU ID 0, defaulting to 0. Your kernel may not have been built with NUMA support.\n",
      "2023-03-07 16:24:56.464365: I tensorflow/core/common_runtime/pluggable_device/pluggable_device_factory.cc:271] Created TensorFlow device (/job:localhost/replica:0/task:0/device:GPU:0 with 0 MB memory) -> physical PluggableDevice (device: 0, name: METAL, pci bus id: <undefined>)\n"
     ]
    }
   ],
   "source": [
    "dataloader = ds.tensorflow()"
   ]
  },
  {
   "cell_type": "code",
   "execution_count": 14,
   "id": "579f43d9-d87d-4288-82fa-261ec05e35f9",
   "metadata": {},
   "outputs": [
    {
     "ename": "TypeError",
     "evalue": "'DatasetAdapter' object is not subscriptable",
     "output_type": "error",
     "traceback": [
      "\u001b[0;31m---------------------------------------------------------------------------\u001b[0m",
      "\u001b[0;31mTypeError\u001b[0m                                 Traceback (most recent call last)",
      "Cell \u001b[0;32mIn[14], line 1\u001b[0m\n\u001b[0;32m----> 1\u001b[0m \u001b[43mdataloader\u001b[49m\u001b[43m[\u001b[49m\u001b[38;5;241;43m0\u001b[39;49m\u001b[43m]\u001b[49m\n",
      "\u001b[0;31mTypeError\u001b[0m: 'DatasetAdapter' object is not subscriptable"
     ]
    }
   ],
   "source": [
    "dataloader"
   ]
  },
  {
   "cell_type": "code",
   "execution_count": 9,
   "id": "7c4ae1fa-8b80-4739-a981-cd7edafb6b5e",
   "metadata": {},
   "outputs": [],
   "source": [
    "def load_dataset(split):\n",
    "    train_list_ds = tf.data.Dataset.from_tensor_slices(np.load('./dataset/vae-celeba/{}.npy'.format(split)))\n",
    "    train_ds = train_list_ds.map(lambda x: (x, x))\n",
    "    return train_ds"
   ]
  },
  {
   "cell_type": "code",
   "execution_count": 10,
   "id": "25f970e0-8b42-425a-9229-28e34da5df9b",
   "metadata": {},
   "outputs": [
    {
     "ename": "AttributeError",
     "evalue": "module 'tensorflow' has no attribute 'simulation'",
     "output_type": "error",
     "traceback": [
      "\u001b[0;31m---------------------------------------------------------------------------\u001b[0m",
      "\u001b[0;31mAttributeError\u001b[0m                            Traceback (most recent call last)",
      "Cell \u001b[0;32mIn[10], line 1\u001b[0m\n\u001b[0;32m----> 1\u001b[0m train_ds \u001b[38;5;241m=\u001b[39m \u001b[43mload_dataset\u001b[49m\u001b[43m(\u001b[49m\u001b[38;5;124;43m'\u001b[39;49m\u001b[38;5;124;43mtrain\u001b[39;49m\u001b[38;5;124;43m'\u001b[39;49m\u001b[43m)\u001b[49m\n\u001b[1;32m      2\u001b[0m val_ds \u001b[38;5;241m=\u001b[39m load_dataset(\u001b[38;5;124m'\u001b[39m\u001b[38;5;124mval\u001b[39m\u001b[38;5;124m'\u001b[39m)\n\u001b[1;32m      3\u001b[0m test_ds \u001b[38;5;241m=\u001b[39m load_dataset(\u001b[38;5;124m'\u001b[39m\u001b[38;5;124mtest\u001b[39m\u001b[38;5;124m'\u001b[39m)\n",
      "Cell \u001b[0;32mIn[9], line 2\u001b[0m, in \u001b[0;36mload_dataset\u001b[0;34m(split)\u001b[0m\n\u001b[1;32m      1\u001b[0m \u001b[38;5;28;01mdef\u001b[39;00m \u001b[38;5;21mload_dataset\u001b[39m(split):\n\u001b[0;32m----> 2\u001b[0m     train_list_ds \u001b[38;5;241m=\u001b[39m \u001b[43mtf\u001b[49m\u001b[38;5;241;43m.\u001b[39;49m\u001b[43msimulation\u001b[49m\u001b[38;5;241m.\u001b[39mdatasets\u001b[38;5;241m.\u001b[39mceleba\u001b[38;5;241m.\u001b[39mload_data(split_by_clients\u001b[38;5;241m=\u001b[39m\u001b[38;5;28;01mTrue\u001b[39;00m, cache_dir\u001b[38;5;241m=\u001b[39m\u001b[38;5;28;01mNone\u001b[39;00m)\n\u001b[1;32m      3\u001b[0m     train_ds \u001b[38;5;241m=\u001b[39m train_list_ds\u001b[38;5;241m.\u001b[39mmap(\u001b[38;5;28;01mlambda\u001b[39;00m x: (x, x))\n\u001b[1;32m      4\u001b[0m     \u001b[38;5;28;01mreturn\u001b[39;00m train_ds\n",
      "\u001b[0;31mAttributeError\u001b[0m: module 'tensorflow' has no attribute 'simulation'"
     ]
    }
   ],
   "source": [
    "train_ds = load_dataset('train')\n",
    "val_ds = load_dataset('val')\n",
    "test_ds = load_dataset('test')"
   ]
  },
  {
   "cell_type": "code",
   "execution_count": 11,
   "id": "f5de6c68-13d4-4ed7-93b7-7c271cf924a7",
   "metadata": {},
   "outputs": [
    {
     "ename": "NameError",
     "evalue": "name 'train_ds' is not defined",
     "output_type": "error",
     "traceback": [
      "\u001b[0;31m---------------------------------------------------------------------------\u001b[0m",
      "\u001b[0;31mNameError\u001b[0m                                 Traceback (most recent call last)",
      "Cell \u001b[0;32mIn[11], line 4\u001b[0m\n\u001b[1;32m      1\u001b[0m n_examples_shown \u001b[38;5;241m=\u001b[39m \u001b[38;5;241m6\u001b[39m\n\u001b[1;32m      2\u001b[0m f, axs \u001b[38;5;241m=\u001b[39m plt\u001b[38;5;241m.\u001b[39msubplots(\u001b[38;5;241m1\u001b[39m, n_examples_shown, figsize\u001b[38;5;241m=\u001b[39m(\u001b[38;5;241m16\u001b[39m, \u001b[38;5;241m3\u001b[39m))\n\u001b[0;32m----> 4\u001b[0m \u001b[38;5;28;01mfor\u001b[39;00m j, image \u001b[38;5;129;01min\u001b[39;00m \u001b[38;5;28menumerate\u001b[39m(\u001b[43mtrain_ds\u001b[49m\u001b[38;5;241m.\u001b[39mtake(n_examples_shown)):\n\u001b[1;32m      5\u001b[0m     axs[j]\u001b[38;5;241m.\u001b[39mimshow(image[\u001b[38;5;241m0\u001b[39m])\n\u001b[1;32m      6\u001b[0m     axs[j]\u001b[38;5;241m.\u001b[39maxis(\u001b[38;5;124m'\u001b[39m\u001b[38;5;124moff\u001b[39m\u001b[38;5;124m'\u001b[39m)\n",
      "\u001b[0;31mNameError\u001b[0m: name 'train_ds' is not defined"
     ]
    },
    {
     "data": {
      "image/png": "[encoded data removed]",
      "text/plain": [
       "<Figure size 1600x300 with 6 Axes>"
      ]
     },
     "metadata": {},
     "output_type": "display_data"
    }
   ],
   "source": [
    "n_examples_shown = 6\n",
    "f, axs = plt.subplots(1, n_examples_shown, figsize=(16, 3))\n",
    "\n",
    "for j, image in enumerate(train_ds.take(n_examples_shown)):\n",
    "    axs[j].imshow(image[0])\n",
    "    axs[j].axis('off')"
   ]
  },
  {
   "cell_type": "code",
   "execution_count": 15,
   "id": "dce4daa1-d37b-4215-9335-e40ea16ec1dc",
   "metadata": {},
   "outputs": [
    {
     "ename": "NameError",
     "evalue": "name 'train_ds' is not defined",
     "output_type": "error",
     "traceback": [
      "\u001b[0;31m---------------------------------------------------------------------------\u001b[0m",
      "\u001b[0;31mNameError\u001b[0m                                 Traceback (most recent call last)",
      "Cell \u001b[0;32mIn[15], line 2\u001b[0m\n\u001b[1;32m      1\u001b[0m batch_size \u001b[38;5;241m=\u001b[39m \u001b[38;5;241m32\u001b[39m\n\u001b[0;32m----> 2\u001b[0m train_ds \u001b[38;5;241m=\u001b[39m \u001b[43mtrain_ds\u001b[49m\u001b[38;5;241m.\u001b[39mbatch(batch_size)\n\u001b[1;32m      3\u001b[0m val_ds \u001b[38;5;241m=\u001b[39m val_ds\u001b[38;5;241m.\u001b[39mbatch(batch_size)\n\u001b[1;32m      4\u001b[0m test_ds \u001b[38;5;241m=\u001b[39m test_ds\u001b[38;5;241m.\u001b[39mbatch(batch_size)\n",
      "\u001b[0;31mNameError\u001b[0m: name 'train_ds' is not defined"
     ]
    }
   ],
   "source": [
    "batch_size = 32\n",
    "train_ds = train_ds.batch(batch_size)\n",
    "val_ds = val_ds.batch(batch_size)\n",
    "test_ds = test_ds.batch(batch_size)"
   ]
  },
  {
   "cell_type": "code",
   "execution_count": 16,
   "id": "547b4d90-52ca-41cc-87db-a18d96230ff8",
   "metadata": {},
   "outputs": [],
   "source": [
    "def get_prior(num_modes, latent_dim):\n",
    "    prior = tfd.MixtureSameFamily(\n",
    "        mixture_distribution=tfd.Categorical(probs=[1 / num_modes,] * num_modes),\n",
    "        components_distribution=tfd.MultivariateNormalDiag(\n",
    "            loc=tf.Variable(tf.random.normal(shape=[num_modes, latent_dim])),\n",
    "            scale_diag=tfp.util.TransformedVariable(tf.Variable(tf.ones(shape=[num_modes, latent_dim])), bijector=tfb.Softplus())\n",
    "        )\n",
    "    )\n",
    "    return prior"
   ]
  },
  {
   "cell_type": "code",
   "execution_count": null,
   "id": "e642cb01-ac53-4fcb-9ed7-ebaea12568ad",
   "metadata": {},
   "outputs": [],
   "source": [
    "prior = get_prior(num_modes=2, latent_dim=50)\n",
    "prior"
   ]
  },
  {
   "cell_type": "code",
   "execution_count": 17,
   "id": "b993e36e-cafc-4cee-9874-92d3848dd3c2",
   "metadata": {},
   "outputs": [],
   "source": [
    "def get_kl_regularizer(prior_distribution):\n",
    "    divergence_regularizer = tfpl.KLDivergenceRegularizer(\n",
    "        prior_distribution,\n",
    "        use_exact_kl=False,\n",
    "        weight=1.0,\n",
    "        test_points_fn=lambda q: q.sample(3),\n",
    "        test_points_reduce_axis=(0, 1)\n",
    "    )\n",
    "    return divergence_regularizer"
   ]
  },
  {
   "cell_type": "code",
   "execution_count": 18,
   "id": "c181637d-29a9-4fba-92f2-7c0c3dcbdf28",
   "metadata": {},
   "outputs": [
    {
     "ename": "NameError",
     "evalue": "name 'prior' is not defined",
     "output_type": "error",
     "traceback": [
      "\u001b[0;31m---------------------------------------------------------------------------\u001b[0m",
      "\u001b[0;31mNameError\u001b[0m                                 Traceback (most recent call last)",
      "Cell \u001b[0;32mIn[18], line 1\u001b[0m\n\u001b[0;32m----> 1\u001b[0m kl_regularizer \u001b[38;5;241m=\u001b[39m get_kl_regularizer(\u001b[43mprior\u001b[49m)\n\u001b[1;32m      2\u001b[0m kl_regularizer\n",
      "\u001b[0;31mNameError\u001b[0m: name 'prior' is not defined"
     ]
    }
   ],
   "source": [
    "kl_regularizer = get_kl_regularizer(prior)\n",
    "kl_regularizer"
   ]
  },
  {
   "cell_type": "code",
   "execution_count": 19,
   "id": "648738f4-f187-436f-bc60-8b67a9cda6e5",
   "metadata": {},
   "outputs": [],
   "source": [
    "from tensorflow.keras.models import Model, Sequential\n",
    "from tensorflow.keras.layers import Conv2D, BatchNormalization, Flatten, Dense, UpSampling2D, Reshape"
   ]
  },
  {
   "cell_type": "code",
   "execution_count": 20,
   "id": "715bc8e8-d8ef-471f-bf34-7c7bfc17cb62",
   "metadata": {},
   "outputs": [],
   "source": [
    "def get_encoder(latent_dim, kl_regularizer):\n",
    "    encoder = Sequential([\n",
    "        Conv2D(32, (4, 4), activation='relu', strides=2, padding='SAME', input_shape=(64, 64, 3)),\n",
    "        BatchNormalization(),\n",
    "        Conv2D(64, (4, 4), activation='relu', strides=2, padding='SAME'),\n",
    "        BatchNormalization(),\n",
    "        Conv2D(128, (4, 4), activation='relu', strides=2, padding='SAME'),\n",
    "        BatchNormalization(),\n",
    "        Conv2D(256, (4, 4), activation='relu', strides=2, padding='SAME'),\n",
    "        BatchNormalization(),\n",
    "        Flatten(),\n",
    "        Dense(tfpl.MultivariateNormalTriL.params_size(latent_dim)),\n",
    "        tfpl.MultivariateNormalTriL(latent_dim, activity_regularizer=kl_regularizer)\n",
    "    ])\n",
    "    return encoder"
   ]
  },
  {
   "cell_type": "code",
   "execution_count": 21,
   "id": "6bb4a532-8906-4519-83e4-b824b6a747a6",
   "metadata": {},
   "outputs": [
    {
     "ename": "NameError",
     "evalue": "name 'kl_regularizer' is not defined",
     "output_type": "error",
     "traceback": [
      "\u001b[0;31m---------------------------------------------------------------------------\u001b[0m",
      "\u001b[0;31mNameError\u001b[0m                                 Traceback (most recent call last)",
      "Cell \u001b[0;32mIn[21], line 1\u001b[0m\n\u001b[0;32m----> 1\u001b[0m encoder \u001b[38;5;241m=\u001b[39m get_encoder(latent_dim\u001b[38;5;241m=\u001b[39m\u001b[38;5;241m50\u001b[39m, kl_regularizer\u001b[38;5;241m=\u001b[39m\u001b[43mkl_regularizer\u001b[49m)\n",
      "\u001b[0;31mNameError\u001b[0m: name 'kl_regularizer' is not defined"
     ]
    }
   ],
   "source": [
    "encoder = get_encoder(latent_dim=50, kl_regularizer=kl_regularizer)"
   ]
  },
  {
   "cell_type": "code",
   "execution_count": 22,
   "id": "35366543-1d12-4e18-bf41-18654633c384",
   "metadata": {},
   "outputs": [
    {
     "ename": "NameError",
     "evalue": "name 'encoder' is not defined",
     "output_type": "error",
     "traceback": [
      "\u001b[0;31m---------------------------------------------------------------------------\u001b[0m",
      "\u001b[0;31mNameError\u001b[0m                                 Traceback (most recent call last)",
      "Cell \u001b[0;32mIn[22], line 1\u001b[0m\n\u001b[0;32m----> 1\u001b[0m \u001b[43mencoder\u001b[49m\u001b[38;5;241m.\u001b[39msummary()\n",
      "\u001b[0;31mNameError\u001b[0m: name 'encoder' is not defined"
     ]
    }
   ],
   "source": [
    "encoder.summary()"
   ]
  },
  {
   "cell_type": "code",
   "execution_count": 23,
   "id": "7561ee33-8cd9-459d-bec6-a09580b3a05e",
   "metadata": {},
   "outputs": [
    {
     "ename": "NameError",
     "evalue": "name 'encoder' is not defined",
     "output_type": "error",
     "traceback": [
      "\u001b[0;31m---------------------------------------------------------------------------\u001b[0m",
      "\u001b[0;31mNameError\u001b[0m                                 Traceback (most recent call last)",
      "Cell \u001b[0;32mIn[23], line 1\u001b[0m\n\u001b[0;32m----> 1\u001b[0m tf\u001b[38;5;241m.\u001b[39mkeras\u001b[38;5;241m.\u001b[39mutils\u001b[38;5;241m.\u001b[39mplot_model(\u001b[43mencoder\u001b[49m)\n",
      "\u001b[0;31mNameError\u001b[0m: name 'encoder' is not defined"
     ]
    }
   ],
   "source": [
    "tf.keras.utils.plot_model(encoder)"
   ]
  },
  {
   "cell_type": "code",
   "execution_count": 24,
   "id": "befd20ef-b83b-463e-8d1c-839874946875",
   "metadata": {},
   "outputs": [],
   "source": [
    "def get_decoder(latent_dim):\n",
    "    decoder = Sequential([\n",
    "        Dense(4096, activation='relu', input_shape=(latent_dim, )),\n",
    "        Reshape((4, 4, 256)),\n",
    "        UpSampling2D(size=(2, 2)),\n",
    "        Conv2D(128, (3, 3), activation='relu', padding='SAME'),\n",
    "        UpSampling2D(size=(2, 2)),\n",
    "        Conv2D(64, (3, 3), activation='relu', padding='SAME'),\n",
    "        UpSampling2D(size=(2, 2)),\n",
    "        Conv2D(32, (3, 3), activation='relu', padding='SAME'),\n",
    "        UpSampling2D(size=(2, 2)),\n",
    "        Conv2D(128, (3, 3), activation='relu', padding='SAME'),\n",
    "        Conv2D(3, (3, 3), padding='SAME'),\n",
    "        Flatten(),\n",
    "        tfpl.IndependentBernoulli(event_shape=(64, 64, 3))\n",
    "    ])\n",
    "    return decoder"
   ]
  },
  {
   "cell_type": "code",
   "execution_count": null,
   "id": "f17464df-4e9e-47b1-8716-d397b2224b70",
   "metadata": {},
   "outputs": [],
   "source": [
    "decoder = get_decoder(latent_dim=50)"
   ]
  },
  {
   "cell_type": "code",
   "execution_count": null,
   "id": "e5941eb8-de7f-487c-8b2b-a203db9686be",
   "metadata": {},
   "outputs": [],
   "source": [
    "decoder.summary()"
   ]
  },
  {
   "cell_type": "code",
   "execution_count": null,
   "id": "adc902df-01fd-4733-a4a2-6f40c64dd314",
   "metadata": {},
   "outputs": [],
   "source": [
    "tf.keras.utils.plot_model(decoder)"
   ]
  },
  {
   "cell_type": "code",
   "execution_count": null,
   "id": "cda2e5c8-ba0d-4fa1-9228-9cc5fb1c35a2",
   "metadata": {},
   "outputs": [],
   "source": [
    "vae = Model(inputs=encoder.inputs, outputs=decoder(encoder.outputs))"
   ]
  },
  {
   "cell_type": "code",
   "execution_count": null,
   "id": "b660b76a-ea94-4fa8-8ff9-98d545ccf887",
   "metadata": {},
   "outputs": [],
   "source": [
    "def reconstruction_loss(batch_of_images, decoding_dist):\n",
    "    \"\"\"\n",
    "    The function takes batch_of_images (Tensor containing a batch of input images to\n",
    "    the encoder) and decoding_dist (output distribution of decoder after passing the \n",
    "    image batch through the encoder and decoder) as arguments.\n",
    "    The function should return the scalar average expected reconstruction loss.\n",
    "    \"\"\"\n",
    "    return -tf.reduce_mean(decoding_dist.log_prob(batch_of_images), axis=0)\n",
    "\n"
   ]
  },
  {
   "cell_type": "code",
   "execution_count": null,
   "id": "b0296135-8ac5-44a0-bbb1-dfa10132ce6c",
   "metadata": {},
   "outputs": [],
   "source": [
    "optimizer = tf.keras.optimizers.Adam(learning_rate=0.0005)\n",
    "vae.compile(optimizer=optimizer, loss=reconstruction_loss)"
   ]
  },
  {
   "cell_type": "code",
   "execution_count": null,
   "id": "d4fb3fe9-710c-4090-b976-3290d1153010",
   "metadata": {},
   "outputs": [],
   "source": [
    "vae.fit(train_ds, validation_data=val_ds, epochs=30)"
   ]
  },
  {
   "cell_type": "code",
   "execution_count": null,
   "id": "7dab02bd-a5c9-4d1b-8e1a-2ba7e0fdf652",
   "metadata": {},
   "outputs": [],
   "source": [
    "test_loss = vae.evaluate(test_ds)\n",
    "print(\"Test loss: {}\".format(test_loss))"
   ]
  },
  {
   "cell_type": "code",
   "execution_count": null,
   "id": "8a18b3f5-8d85-4f72-bfdd-49fb4c333e4a",
   "metadata": {},
   "outputs": [],
   "source": [
    "def reconstruct(encoder, decoder, batch_of_images):\n",
    "    \"\"\"\n",
    "    The function takes the encoder, decoder and batch_of_images as inputs, which\n",
    "    should be used to compute the reconstructions.\n",
    "    The function should then return the reconstructions Tensor.\n",
    "    \"\"\"\n",
    "    approx_posterior = encoder(batch_of_images)\n",
    "    decoding_dist = decoder(approx_posterior.mean())\n",
    "    return decoding_dist.mean()"
   ]
  },
  {
   "cell_type": "code",
   "execution_count": null,
   "id": "98995e2f-e0be-494f-912f-8912feff18f9",
   "metadata": {},
   "outputs": [],
   "source": [
    "n_reconstructions = 7\n",
    "num_test_files = np.load('./dataset/vae-celeba/test.npy').shape[0]\n",
    "test_ds_for_reconstructions = load_dataset('test')\n",
    "for all_test_images, _ in test_ds_for_reconstructions.batch(num_test_files).take(1):\n",
    "    all_test_images_np = all_test_images.numpy()\n",
    "example_images = all_test_images_np[np.random.choice(num_test_files, n_reconstructions, replace=False)]\n",
    "\n",
    "reconstructions = reconstruct(encoder, decoder, example_images).numpy()"
   ]
  },
  {
   "cell_type": "code",
   "execution_count": null,
   "id": "4b3d67e0-3a15-4ffd-a320-d357d75714a2",
   "metadata": {},
   "outputs": [],
   "source": [
    "f, axs = plt.subplots(2, n_reconstructions, figsize=(16, 6))\n",
    "axs[0, n_reconstructions // 2].set_title(\"Original test images\")\n",
    "axs[1, n_reconstructions // 2].set_title(\"Reconstructed images\")\n",
    "for j in range(n_reconstructions):\n",
    "    axs[0, j].imshow(example_images[j])\n",
    "    axs[1, j].imshow(reconstructions[j])\n",
    "    axs[0, j].axis('off')\n",
    "    axs[1, j].axis('off')\n",
    "    \n",
    "plt.tight_layout();"
   ]
  },
  {
   "cell_type": "code",
   "execution_count": null,
   "id": "84e0b97d-5c4c-4903-b641-d061c54365fc",
   "metadata": {},
   "outputs": [],
   "source": [
    "def generate_images(prior, decoder, n_samples):\n",
    "    \"\"\"\n",
    "    The function takes the prior distribution, decoder and number of samples as inputs, which\n",
    "    should be used to generate the images.\n",
    "    The function should then return the batch of generated images.\n",
    "    \"\"\"\n",
    "    z = prior.sample(n_samples)\n",
    "    return decoder(z).mean()"
   ]
  },
  {
   "cell_type": "code",
   "execution_count": null,
   "id": "f85f5562-8f8e-4b39-8972-1039b7caf193",
   "metadata": {},
   "outputs": [],
   "source": [
    "n_samples = 10\n",
    "sampled_images = generate_images(prior, decoder, n_samples)\n",
    "\n",
    "f, axs = plt.subplots(1, n_samples, figsize=(16, 6))\n",
    "\n",
    "for j in range(n_samples):\n",
    "    axs[j].imshow(sampled_images[j])\n",
    "    axs[j].axis('off')\n",
    "    \n",
    "plt.tight_layout();"
   ]
  },
  {
   "cell_type": "code",
   "execution_count": null,
   "id": "abd6a99b-47d1-4c7a-99a6-f62552f59d0c",
   "metadata": {},
   "outputs": [],
   "source": [
    "def load_labels_and_image_arrays(split):\n",
    "    dataset = load_dataset(split)\n",
    "    num_files = np.load('./dataset/vae-celeba/{}.npy'.format(split)).shape[0]\n",
    "    \n",
    "    for all_images, _ in dataset.batch(num_files).take(1):\n",
    "        all_images_np = all_images.numpy()\n",
    "\n",
    "    labels = pd.read_csv('./dataset/list_attr_celeba_subset.csv')\n",
    "#     labels = labels[labels['image_id'].isin(files)]\n",
    "    return labels[:num_files], all_images_np"
   ]
  },
  {
   "cell_type": "code",
   "execution_count": null,
   "id": "799c3f8b-7e17-4ab2-a5d8-b590309b4478",
   "metadata": {},
   "outputs": [],
   "source": [
    "train_labels, training_subset = load_labels_and_image_arrays('train')"
   ]
  },
  {
   "cell_type": "code",
   "execution_count": null,
   "id": "25b3e65e-8ce3-4f80-9b01-d56e047c385f",
   "metadata": {},
   "outputs": [],
   "source": [
    "train_labels.columns[2:]"
   ]
  },
  {
   "cell_type": "code",
   "execution_count": null,
   "id": "bc571995-940a-47fe-9a65-4164098f2355",
   "metadata": {},
   "outputs": [],
   "source": [
    "attribute = 'Smiling'\n",
    "attribute_mask = (train_labels[attribute] == 1)\n",
    "images_with_attribute = training_subset[attribute_mask]\n",
    "\n",
    "not_attribute_mask = (train_labels[attribute] == -1)\n",
    "images_without_attribute = training_subset[not_attribute_mask]"
   ]
  },
  {
   "cell_type": "code",
   "execution_count": 13,
   "id": "076eaa8b-0cc8-442b-9665-5cd4ca57c20b",
   "metadata": {},
   "outputs": [
    {
     "ename": "NameError",
     "evalue": "name 'encoder' is not defined",
     "output_type": "error",
     "traceback": [
      "\u001b[0;31m---------------------------------------------------------------------------\u001b[0m",
      "\u001b[0;31mNameError\u001b[0m                                 Traceback (most recent call last)",
      "Cell \u001b[0;32mIn[13], line 1\u001b[0m\n\u001b[0;32m----> 1\u001b[0m encoded_images_with_attribute \u001b[38;5;241m=\u001b[39m \u001b[43mencoder\u001b[49m(images_with_attribute)\n\u001b[1;32m      2\u001b[0m encoded_images_without_attribute \u001b[38;5;241m=\u001b[39m encoder(images_without_attribute)\n",
      "\u001b[0;31mNameError\u001b[0m: name 'encoder' is not defined"
     ]
    }
   ],
   "source": [
    "encoded_images_with_attribute = encoder(images_with_attribute)\n",
    "encoded_images_without_attribute = encoder(images_without_attribute)"
   ]
  },
  {
   "cell_type": "code",
   "execution_count": 14,
   "id": "92c49ab9-af74-49d5-89e8-c3b54337a344",
   "metadata": {},
   "outputs": [
    {
     "ename": "NameError",
     "evalue": "name 'encoded_images_with_attribute' is not defined",
     "output_type": "error",
     "traceback": [
      "\u001b[0;31m---------------------------------------------------------------------------\u001b[0m",
      "\u001b[0;31mNameError\u001b[0m                                 Traceback (most recent call last)",
      "Cell \u001b[0;32mIn[14], line 1\u001b[0m\n\u001b[0;32m----> 1\u001b[0m mean_encoded_images_with_attribute \u001b[38;5;241m=\u001b[39m tf\u001b[38;5;241m.\u001b[39mreduce_mean(\u001b[43mencoded_images_with_attribute\u001b[49m\u001b[38;5;241m.\u001b[39mmean(), \n\u001b[1;32m      2\u001b[0m                                                     axis\u001b[38;5;241m=\u001b[39m\u001b[38;5;241m0\u001b[39m, keepdims\u001b[38;5;241m=\u001b[39m\u001b[38;5;28;01mTrue\u001b[39;00m)\n\u001b[1;32m      3\u001b[0m mean_encoded_images_without_attribute \u001b[38;5;241m=\u001b[39m tf\u001b[38;5;241m.\u001b[39mreduce_mean(encoded_images_without_attribute\u001b[38;5;241m.\u001b[39mmean(), \n\u001b[1;32m      4\u001b[0m                                                     axis\u001b[38;5;241m=\u001b[39m\u001b[38;5;241m0\u001b[39m, keepdims\u001b[38;5;241m=\u001b[39m\u001b[38;5;28;01mTrue\u001b[39;00m)\n",
      "\u001b[0;31mNameError\u001b[0m: name 'encoded_images_with_attribute' is not defined"
     ]
    }
   ],
   "source": [
    "mean_encoded_images_with_attribute = tf.reduce_mean(encoded_images_with_attribute.mean(), \n",
    "                                                    axis=0, keepdims=True)\n",
    "mean_encoded_images_without_attribute = tf.reduce_mean(encoded_images_without_attribute.mean(), \n",
    "                                                    axis=0, keepdims=True)"
   ]
  },
  {
   "cell_type": "code",
   "execution_count": 15,
   "id": "9e39dd52-4613-41aa-8200-bd57496b09b5",
   "metadata": {},
   "outputs": [
    {
     "ename": "NameError",
     "evalue": "name 'mean_encoded_images_with_attribute' is not defined",
     "output_type": "error",
     "traceback": [
      "\u001b[0;31m---------------------------------------------------------------------------\u001b[0m",
      "\u001b[0;31mNameError\u001b[0m                                 Traceback (most recent call last)",
      "Cell \u001b[0;32mIn[15], line 1\u001b[0m\n\u001b[0;32m----> 1\u001b[0m attribute_vector \u001b[38;5;241m=\u001b[39m \u001b[43mmean_encoded_images_with_attribute\u001b[49m \u001b[38;5;241m-\u001b[39m  mean_encoded_images_without_attribute\n",
      "\u001b[0;31mNameError\u001b[0m: name 'mean_encoded_images_with_attribute' is not defined"
     ]
    }
   ],
   "source": [
    "attribute_vector = mean_encoded_images_with_attribute -  mean_encoded_images_without_attribute"
   ]
  },
  {
   "cell_type": "code",
   "execution_count": 16,
   "id": "5dcc23b4-d338-4c46-b7c0-75f65cb98e5d",
   "metadata": {},
   "outputs": [
    {
     "ename": "NameError",
     "evalue": "name 'decoder' is not defined",
     "output_type": "error",
     "traceback": [
      "\u001b[0;31m---------------------------------------------------------------------------\u001b[0m",
      "\u001b[0;31mNameError\u001b[0m                                 Traceback (most recent call last)",
      "Cell \u001b[0;32mIn[16], line 1\u001b[0m\n\u001b[0;32m----> 1\u001b[0m decoded_a \u001b[38;5;241m=\u001b[39m \u001b[43mdecoder\u001b[49m(attribute_vector)\u001b[38;5;241m.\u001b[39mmean()\n\u001b[1;32m      2\u001b[0m plt\u001b[38;5;241m.\u001b[39mimshow(decoded_a\u001b[38;5;241m.\u001b[39mnumpy()\u001b[38;5;241m.\u001b[39msqueeze())\n\u001b[1;32m      3\u001b[0m plt\u001b[38;5;241m.\u001b[39maxis(\u001b[38;5;124m'\u001b[39m\u001b[38;5;124moff\u001b[39m\u001b[38;5;124m'\u001b[39m);\n",
      "\u001b[0;31mNameError\u001b[0m: name 'decoder' is not defined"
     ]
    }
   ],
   "source": [
    "decoded_a = decoder(attribute_vector).mean()\n",
    "plt.imshow(decoded_a.numpy().squeeze())\n",
    "plt.axis('off');"
   ]
  },
  {
   "cell_type": "code",
   "execution_count": 17,
   "id": "e8d2d8b5-dca4-421c-a201-677f31a08e6f",
   "metadata": {},
   "outputs": [
    {
     "ename": "NameError",
     "evalue": "name 'images_without_attribute' is not defined",
     "output_type": "error",
     "traceback": [
      "\u001b[0;31m---------------------------------------------------------------------------\u001b[0m",
      "\u001b[0;31mNameError\u001b[0m                                 Traceback (most recent call last)",
      "Cell \u001b[0;32mIn[17], line 2\u001b[0m\n\u001b[1;32m      1\u001b[0m n_examples \u001b[38;5;241m=\u001b[39m \u001b[38;5;241m7\u001b[39m\n\u001b[0;32m----> 2\u001b[0m sampled_inx \u001b[38;5;241m=\u001b[39m np\u001b[38;5;241m.\u001b[39mrandom\u001b[38;5;241m.\u001b[39mchoice(\u001b[43mimages_without_attribute\u001b[49m\u001b[38;5;241m.\u001b[39mshape[\u001b[38;5;241m0\u001b[39m], n_examples, replace\u001b[38;5;241m=\u001b[39m\u001b[38;5;28;01mFalse\u001b[39;00m)\n\u001b[1;32m      3\u001b[0m sample_images_without_attribute \u001b[38;5;241m=\u001b[39m images_without_attribute[sampled_inx]\n\u001b[1;32m      4\u001b[0m sample_images_encodings \u001b[38;5;241m=\u001b[39m encoder(sample_images_without_attribute)\n",
      "\u001b[0;31mNameError\u001b[0m: name 'images_without_attribute' is not defined"
     ]
    }
   ],
   "source": [
    "n_examples = 7\n",
    "sampled_inx = np.random.choice(images_without_attribute.shape[0], n_examples, replace=False)\n",
    "sample_images_without_attribute = images_without_attribute[sampled_inx]\n",
    "sample_images_encodings = encoder(sample_images_without_attribute)\n",
    "sample_images_reconstructions = decoder(sample_images_encodings).mean()\n",
    "\n",
    "k = 2.5  # Weighting of attribute vector\n",
    "modified_sample_images_encodings = sample_images_encodings + (k * attribute_vector)\n",
    "modified_reconstructions = decoder(modified_sample_images_encodings).mean()"
   ]
  },
  {
   "cell_type": "code",
   "execution_count": 18,
   "id": "85643963-171c-4280-8464-3585e7eacb24",
   "metadata": {},
   "outputs": [
    {
     "ename": "NameError",
     "evalue": "name 'sample_images_without_attribute' is not defined",
     "output_type": "error",
     "traceback": [
      "\u001b[0;31m---------------------------------------------------------------------------\u001b[0m",
      "\u001b[0;31mNameError\u001b[0m                                 Traceback (most recent call last)",
      "Cell \u001b[0;32mIn[18], line 6\u001b[0m\n\u001b[1;32m      4\u001b[0m axs[\u001b[38;5;241m2\u001b[39m, n_examples \u001b[38;5;241m/\u001b[39m\u001b[38;5;241m/\u001b[39m \u001b[38;5;241m2\u001b[39m]\u001b[38;5;241m.\u001b[39mset_title(\u001b[38;5;124m\"\u001b[39m\u001b[38;5;124mImages with added attribute\u001b[39m\u001b[38;5;124m\"\u001b[39m)\n\u001b[1;32m      5\u001b[0m \u001b[38;5;28;01mfor\u001b[39;00m j \u001b[38;5;129;01min\u001b[39;00m \u001b[38;5;28mrange\u001b[39m(n_examples):\n\u001b[0;32m----> 6\u001b[0m     axs[\u001b[38;5;241m0\u001b[39m, j]\u001b[38;5;241m.\u001b[39mimshow(\u001b[43msample_images_without_attribute\u001b[49m[j])\n\u001b[1;32m      7\u001b[0m     axs[\u001b[38;5;241m1\u001b[39m, j]\u001b[38;5;241m.\u001b[39mimshow(sample_images_reconstructions[j])\n\u001b[1;32m      8\u001b[0m     axs[\u001b[38;5;241m2\u001b[39m, j]\u001b[38;5;241m.\u001b[39mimshow(modified_reconstructions[j])\n",
      "\u001b[0;31mNameError\u001b[0m: name 'sample_images_without_attribute' is not defined"
     ]
    },
    {
     "data": {
      "image/png": "[encoded data removed]",
      "text/plain": [
       "<Figure size 1600x600 with 21 Axes>"
      ]
     },
     "metadata": {},
     "output_type": "display_data"
    }
   ],
   "source": [
    "f, axs = plt.subplots(3, n_examples, figsize=(16, 6))\n",
    "axs[0, n_examples // 2].set_title(\"Original images\")\n",
    "axs[1, n_examples // 2].set_title(\"Reconstructed images\")\n",
    "axs[2, n_examples // 2].set_title(\"Images with added attribute\")\n",
    "for j in range(n_examples):\n",
    "    axs[0, j].imshow(sample_images_without_attribute[j])\n",
    "    axs[1, j].imshow(sample_images_reconstructions[j])\n",
    "    axs[2, j].imshow(modified_reconstructions[j])\n",
    "    for ax in axs[:, j]: ax.axis('off')\n",
    "    \n",
    "plt.tight_layout();"
   ]
  },
  {
   "cell_type": "code",
   "execution_count": null,
   "id": "1a8d73ae-bd62-42db-88a4-49693678d68b",
   "metadata": {},
   "outputs": [],
   "source": []
  }
 ],
 "metadata": {
  "kernelspec": {
   "display_name": "Python 3 (ipykernel)",
   "language": "python",
   "name": "python3"
  },
  "language_info": {
   "codemirror_mode": {
    "name": "ipython",
    "version": 3
   },
   "file_extension": ".py",
   "mimetype": "text/x-python",
   "name": "python",
   "nbconvert_exporter": "python",
   "pygments_lexer": "ipython3",
   "version": "3.8.16"
  }
 },
 "nbformat": 4,
 "nbformat_minor": 5
}
